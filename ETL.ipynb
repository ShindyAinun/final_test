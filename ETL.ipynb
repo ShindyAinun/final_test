{
  "nbformat": 4,
  "nbformat_minor": 0,
  "metadata": {
    "colab": {
      "provenance": [],
      "authorship_tag": "ABX9TyPxc4ksmw1XoUdD1KzPc+2l",
      "include_colab_link": true
    },
    "kernelspec": {
      "name": "python3",
      "display_name": "Python 3"
    },
    "language_info": {
      "name": "python"
    }
  },
  "cells": [
    {
      "cell_type": "markdown",
      "metadata": {
        "id": "view-in-github",
        "colab_type": "text"
      },
      "source": [
        "<a href=\"https://colab.research.google.com/github/ShindyAinun/final_test/blob/main/ETL.ipynb\" target=\"_parent\"><img src=\"https://colab.research.google.com/assets/colab-badge.svg\" alt=\"Open In Colab\"/></a>"
      ]
    },
    {
      "cell_type": "code",
      "execution_count": 1,
      "metadata": {
        "id": "SRuEe4ivg5ov"
      },
      "outputs": [],
      "source": [
        "import requests\n",
        "import pandas as pd"
      ]
    },
    {
      "cell_type": "markdown",
      "source": [
        "# API Request"
      ],
      "metadata": {
        "id": "D7D3Fm47hRRN"
      }
    },
    {
      "cell_type": "code",
      "source": [
        "api_url = \"https://berita-indo-api-next.vercel.app/api/cnn-news/teknologi\"\n",
        "response = requests.get(api_url)\n",
        "api_data = response.json()"
      ],
      "metadata": {
        "id": "RlUFRXgkhZCE"
      },
      "execution_count": 2,
      "outputs": []
    },
    {
      "cell_type": "markdown",
      "source": [
        "# Transformasi ke DataFrame"
      ],
      "metadata": {
        "id": "wZFVpJBUhkAP"
      }
    },
    {
      "cell_type": "code",
      "source": [
        "df = pd.DataFrame(api_data['data'])"
      ],
      "metadata": {
        "id": "CwPUZFrfhqp8"
      },
      "execution_count": 3,
      "outputs": []
    },
    {
      "cell_type": "markdown",
      "source": [
        "# Transformasi data kolom 'isoDate'"
      ],
      "metadata": {
        "id": "WmW3n0FSh24b"
      }
    },
    {
      "cell_type": "code",
      "source": [
        "df['isoDate'] = pd.to_datetime(df['isoDate'])\n",
        "\n",
        "# Print DataFrame\n",
        "print(df)"
      ],
      "metadata": {
        "colab": {
          "base_uri": "https://localhost:8080/"
        },
        "id": "vuTYc_rYh-yV",
        "outputId": "02b735da-2568-4d8d-a37a-4f26b8212c04"
      },
      "execution_count": 4,
      "outputs": [
        {
          "output_type": "stream",
          "name": "stdout",
          "text": [
            "                                                title  \\\n",
            "0   FOTO: Ribuan Guci Kuno China dari Perahu Pembu...   \n",
            "1   BTPN Bongkar Manfaat Digitalisasi: Pinjam Dana...   \n",
            "2   Menkominfo Tegaskan Jaringan Internet di IKN H...   \n",
            "3   BAKTI Ungkap 1 Faktor di Luar Kuasa Buat Sebar...   \n",
            "4   Bubble Burst Startup RI Diprediksi Hasilkan 'B...   \n",
            "..                                                ...   \n",
            "95  Cara Daftar Digital Creative, Forum Berbagi Il...   \n",
            "96  Menkominfo Akui Netral di Pilpres, Janji Sikat...   \n",
            "97  Intelijen Siber Ungkap Teknik Peretasan yang D...   \n",
            "98       FOTO: Beijing Kelabu Berselimut Kabut Polusi   \n",
            "99                 Kanada Blokir WeChat dan Kaspersky   \n",
            "\n",
            "                                                 link  \\\n",
            "0   https://www.cnnindonesia.com/teknologi/2023110...   \n",
            "1   https://www.cnnindonesia.com/teknologi/2023110...   \n",
            "2   https://www.cnnindonesia.com/teknologi/2023110...   \n",
            "3   https://www.cnnindonesia.com/teknologi/2023110...   \n",
            "4   https://www.cnnindonesia.com/teknologi/2023110...   \n",
            "..                                                ...   \n",
            "95  https://www.cnnindonesia.com/teknologi/2023110...   \n",
            "96  https://www.cnnindonesia.com/teknologi/2023110...   \n",
            "97  https://www.cnnindonesia.com/teknologi/2023110...   \n",
            "98  https://www.cnnindonesia.com/teknologi/2023110...   \n",
            "99  https://www.cnnindonesia.com/teknologi/2023110...   \n",
            "\n",
            "                                       contentSnippet  \\\n",
            "0   Sebanyak 1.218 keping tembikar kuno dari era d...   \n",
            "1   PT Bank BTPN mengungkap salah satu manfaat dig...   \n",
            "2   Menurut Menkominfo Budi Arie Setiadi IKN akan ...   \n",
            "3   Badan Aksesibilitas Telekomunikasi dan Informa...   \n",
            "4   Fenomena bubble burst sempat dialami banyak st...   \n",
            "..                                                ...   \n",
            "95  Leadership Forum Digital Creative yang menampi...   \n",
            "96  Menkominfo Budi Arie Setiadi mengklaim pihakny...   \n",
            "97  Hacker mengklaim meretas data Kementerian Pert...   \n",
            "98  Polusi udara menyelimuti kota-kota besar China...   \n",
            "99  Kanada memblokir dua platform dari China dan R...   \n",
            "\n",
            "                     isoDate  \\\n",
            "0  2023-11-09 13:59:48+00:00   \n",
            "1  2023-11-09 13:33:20+00:00   \n",
            "2  2023-11-09 13:20:35+00:00   \n",
            "3  2023-11-09 13:14:05+00:00   \n",
            "4  2023-11-09 12:54:33+00:00   \n",
            "..                       ...   \n",
            "95 2023-11-02 10:30:04+00:00   \n",
            "96 2023-11-02 09:51:12+00:00   \n",
            "97 2023-11-02 08:41:38+00:00   \n",
            "98 2023-11-02 06:45:15+00:00   \n",
            "99 2023-11-02 05:45:01+00:00   \n",
            "\n",
            "                                                image  \n",
            "0   {'small': 'https://akcdn.detik.net.id/visual/2...  \n",
            "1   {'small': 'https://akcdn.detik.net.id/visual/2...  \n",
            "2   {'small': 'https://akcdn.detik.net.id/visual/2...  \n",
            "3   {'small': 'https://akcdn.detik.net.id/visual/2...  \n",
            "4   {'small': 'https://akcdn.detik.net.id/visual/2...  \n",
            "..                                                ...  \n",
            "95  {'small': 'https://akcdn.detik.net.id/visual/2...  \n",
            "96  {'small': 'https://akcdn.detik.net.id/visual/2...  \n",
            "97  {'small': 'https://akcdn.detik.net.id/visual/2...  \n",
            "98  {'small': 'https://akcdn.detik.net.id/visual/2...  \n",
            "99  {'small': 'https://akcdn.detik.net.id/visual/2...  \n",
            "\n",
            "[100 rows x 5 columns]\n"
          ]
        }
      ]
    }
  ]
}